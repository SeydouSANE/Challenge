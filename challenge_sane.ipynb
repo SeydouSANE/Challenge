{
 "cells": [
  {
   "cell_type": "markdown",
   "metadata": {},
   "source": [
    "SANE Seydou\n",
    "                                                                                                             "
   ]
  },
  {
   "cell_type": "markdown",
   "metadata": {},
   "source": [
    "# Prediction part"
   ]
  },
  {
   "cell_type": "raw",
   "metadata": {},
   "source": [
    "Importation des données "
   ]
  },
  {
   "cell_type": "code",
   "execution_count": 318,
   "metadata": {},
   "outputs": [
    {
     "data": {
      "text/html": [
       "<div>\n",
       "<style scoped>\n",
       "    .dataframe tbody tr th:only-of-type {\n",
       "        vertical-align: middle;\n",
       "    }\n",
       "\n",
       "    .dataframe tbody tr th {\n",
       "        vertical-align: top;\n",
       "    }\n",
       "\n",
       "    .dataframe thead th {\n",
       "        text-align: right;\n",
       "    }\n",
       "</style>\n",
       "<table border=\"1\" class=\"dataframe\">\n",
       "  <thead>\n",
       "    <tr style=\"text-align: right;\">\n",
       "      <th></th>\n",
       "      <th>Date</th>\n",
       "      <th>Heure / Time</th>\n",
       "      <th>Vélos depuis le 1er janvier / Grand total</th>\n",
       "      <th>Vélos ce jour / Today's total</th>\n",
       "      <th>Unnamed: 4</th>\n",
       "      <th>Remarque</th>\n",
       "    </tr>\n",
       "  </thead>\n",
       "  <tbody>\n",
       "    <tr>\n",
       "      <th>0</th>\n",
       "      <td>NaN</td>\n",
       "      <td>NaN</td>\n",
       "      <td>NaN</td>\n",
       "      <td>NaN</td>\n",
       "      <td>NaN</td>\n",
       "      <td>NaN</td>\n",
       "    </tr>\n",
       "    <tr>\n",
       "      <th>1</th>\n",
       "      <td>NaN</td>\n",
       "      <td>NaN</td>\n",
       "      <td>NaN</td>\n",
       "      <td>NaN</td>\n",
       "      <td>NaN</td>\n",
       "      <td>NaN</td>\n",
       "    </tr>\n",
       "    <tr>\n",
       "      <th>2</th>\n",
       "      <td>12/03/2020</td>\n",
       "      <td>11:05:00</td>\n",
       "      <td>109.0</td>\n",
       "      <td>109.0</td>\n",
       "      <td>NaN</td>\n",
       "      <td>NaN</td>\n",
       "    </tr>\n",
       "    <tr>\n",
       "      <th>3</th>\n",
       "      <td>12/03/2020</td>\n",
       "      <td>14:30:00</td>\n",
       "      <td>441.0</td>\n",
       "      <td>441.0</td>\n",
       "      <td>NaN</td>\n",
       "      <td>NaN</td>\n",
       "    </tr>\n",
       "    <tr>\n",
       "      <th>4</th>\n",
       "      <td>13/03/2020</td>\n",
       "      <td>10:02:00</td>\n",
       "      <td>1921.0</td>\n",
       "      <td>385.0</td>\n",
       "      <td>NaN</td>\n",
       "      <td>NaN</td>\n",
       "    </tr>\n",
       "    <tr>\n",
       "      <th>...</th>\n",
       "      <td>...</td>\n",
       "      <td>...</td>\n",
       "      <td>...</td>\n",
       "      <td>...</td>\n",
       "      <td>...</td>\n",
       "      <td>...</td>\n",
       "    </tr>\n",
       "    <tr>\n",
       "      <th>1499</th>\n",
       "      <td>31/03/2021</td>\n",
       "      <td>15:04:00</td>\n",
       "      <td>109811.0</td>\n",
       "      <td>1044.0</td>\n",
       "      <td>NaN</td>\n",
       "      <td>NaN</td>\n",
       "    </tr>\n",
       "    <tr>\n",
       "      <th>1500</th>\n",
       "      <td>31/03/2021</td>\n",
       "      <td>16:27:00</td>\n",
       "      <td>109971.0</td>\n",
       "      <td>1204.0</td>\n",
       "      <td>NaN</td>\n",
       "      <td>NaN</td>\n",
       "    </tr>\n",
       "    <tr>\n",
       "      <th>1501</th>\n",
       "      <td>31/03/2021</td>\n",
       "      <td>17:00:00</td>\n",
       "      <td>110050.0</td>\n",
       "      <td>1283.0</td>\n",
       "      <td>NaN</td>\n",
       "      <td>NaN</td>\n",
       "    </tr>\n",
       "    <tr>\n",
       "      <th>1502</th>\n",
       "      <td>31/03/2021</td>\n",
       "      <td>17:13:00</td>\n",
       "      <td>110092.0</td>\n",
       "      <td>1325.0</td>\n",
       "      <td>NaN</td>\n",
       "      <td>NaN</td>\n",
       "    </tr>\n",
       "    <tr>\n",
       "      <th>1503</th>\n",
       "      <td>31/03/2021</td>\n",
       "      <td>20:12:00</td>\n",
       "      <td>110619.0</td>\n",
       "      <td>1852.0</td>\n",
       "      <td>NaN</td>\n",
       "      <td>NaN</td>\n",
       "    </tr>\n",
       "  </tbody>\n",
       "</table>\n",
       "<p>1504 rows × 6 columns</p>\n",
       "</div>"
      ],
      "text/plain": [
       "            Date Heure / Time  Vélos depuis le 1er janvier / Grand total  \\\n",
       "0            NaN          NaN                                        NaN   \n",
       "1            NaN          NaN                                        NaN   \n",
       "2     12/03/2020     11:05:00                                      109.0   \n",
       "3     12/03/2020     14:30:00                                      441.0   \n",
       "4     13/03/2020     10:02:00                                     1921.0   \n",
       "...          ...          ...                                        ...   \n",
       "1499  31/03/2021     15:04:00                                   109811.0   \n",
       "1500  31/03/2021     16:27:00                                   109971.0   \n",
       "1501  31/03/2021     17:00:00                                   110050.0   \n",
       "1502  31/03/2021     17:13:00                                   110092.0   \n",
       "1503  31/03/2021     20:12:00                                   110619.0   \n",
       "\n",
       "      Vélos ce jour / Today's total  Unnamed: 4 Remarque  \n",
       "0                               NaN         NaN      NaN  \n",
       "1                               NaN         NaN      NaN  \n",
       "2                             109.0         NaN      NaN  \n",
       "3                             441.0         NaN      NaN  \n",
       "4                             385.0         NaN      NaN  \n",
       "...                             ...         ...      ...  \n",
       "1499                         1044.0         NaN      NaN  \n",
       "1500                         1204.0         NaN      NaN  \n",
       "1501                         1283.0         NaN      NaN  \n",
       "1502                         1325.0         NaN      NaN  \n",
       "1503                         1852.0         NaN      NaN  \n",
       "\n",
       "[1504 rows x 6 columns]"
      ]
     },
     "execution_count": 318,
     "metadata": {},
     "output_type": "execute_result"
    }
   ],
   "source": [
    "import pandas as pd\n",
    "from pandas import DataFrame\n",
    "import urllib.request\n",
    "url='https://docs.google.com/spreadsheets/d/e/2PACX-1vQVtdpXMHB4g9h75a0jw8CsrqSuQmP5eMIB2adpKR5hkRggwMwzFy5kB-AIThodhVHNLxlZYm8fuoWj/pub?gid=2105854808&single=true&output=csv'\n",
    "data= urllib.request.urlopen(url)\n",
    "velo = pd.read_csv(data)\n",
    "velo"
   ]
  },
  {
   "cell_type": "code",
   "execution_count": 319,
   "metadata": {},
   "outputs": [
    {
     "data": {
      "text/plain": [
       "Date                                            2\n",
       "Heure / Time                                    4\n",
       "Vélos depuis le 1er janvier / Grand total       2\n",
       "Vélos ce jour / Today's total                   2\n",
       "Unnamed: 4                                   1504\n",
       "Remarque                                     1503\n",
       "dtype: int64"
      ]
     },
     "execution_count": 319,
     "metadata": {},
     "output_type": "execute_result"
    }
   ],
   "source": [
    "##Vérification du nombre de données manquantes par colonnes\n",
    "velo.isnull().sum()"
   ]
  },
  {
   "cell_type": "raw",
   "metadata": {},
   "source": [
    " Prise en charge des données manquantes"
   ]
  },
  {
   "cell_type": "code",
   "execution_count": 320,
   "metadata": {},
   "outputs": [
    {
     "data": {
      "text/html": [
       "<div>\n",
       "<style scoped>\n",
       "    .dataframe tbody tr th:only-of-type {\n",
       "        vertical-align: middle;\n",
       "    }\n",
       "\n",
       "    .dataframe tbody tr th {\n",
       "        vertical-align: top;\n",
       "    }\n",
       "\n",
       "    .dataframe thead th {\n",
       "        text-align: right;\n",
       "    }\n",
       "</style>\n",
       "<table border=\"1\" class=\"dataframe\">\n",
       "  <thead>\n",
       "    <tr style=\"text-align: right;\">\n",
       "      <th></th>\n",
       "      <th>Date</th>\n",
       "      <th>Heure / Time</th>\n",
       "      <th>Vélos depuis le 1er janvier / Grand total</th>\n",
       "      <th>Vélos ce jour / Today's total</th>\n",
       "    </tr>\n",
       "  </thead>\n",
       "  <tbody>\n",
       "    <tr>\n",
       "      <th>0</th>\n",
       "      <td>NaN</td>\n",
       "      <td>NaN</td>\n",
       "      <td>NaN</td>\n",
       "      <td>NaN</td>\n",
       "    </tr>\n",
       "    <tr>\n",
       "      <th>1</th>\n",
       "      <td>NaN</td>\n",
       "      <td>NaN</td>\n",
       "      <td>NaN</td>\n",
       "      <td>NaN</td>\n",
       "    </tr>\n",
       "    <tr>\n",
       "      <th>2</th>\n",
       "      <td>12/03/2020</td>\n",
       "      <td>11:05:00</td>\n",
       "      <td>109.0</td>\n",
       "      <td>109.0</td>\n",
       "    </tr>\n",
       "    <tr>\n",
       "      <th>3</th>\n",
       "      <td>12/03/2020</td>\n",
       "      <td>14:30:00</td>\n",
       "      <td>441.0</td>\n",
       "      <td>441.0</td>\n",
       "    </tr>\n",
       "    <tr>\n",
       "      <th>4</th>\n",
       "      <td>13/03/2020</td>\n",
       "      <td>10:02:00</td>\n",
       "      <td>1921.0</td>\n",
       "      <td>385.0</td>\n",
       "    </tr>\n",
       "    <tr>\n",
       "      <th>...</th>\n",
       "      <td>...</td>\n",
       "      <td>...</td>\n",
       "      <td>...</td>\n",
       "      <td>...</td>\n",
       "    </tr>\n",
       "    <tr>\n",
       "      <th>1499</th>\n",
       "      <td>31/03/2021</td>\n",
       "      <td>15:04:00</td>\n",
       "      <td>109811.0</td>\n",
       "      <td>1044.0</td>\n",
       "    </tr>\n",
       "    <tr>\n",
       "      <th>1500</th>\n",
       "      <td>31/03/2021</td>\n",
       "      <td>16:27:00</td>\n",
       "      <td>109971.0</td>\n",
       "      <td>1204.0</td>\n",
       "    </tr>\n",
       "    <tr>\n",
       "      <th>1501</th>\n",
       "      <td>31/03/2021</td>\n",
       "      <td>17:00:00</td>\n",
       "      <td>110050.0</td>\n",
       "      <td>1283.0</td>\n",
       "    </tr>\n",
       "    <tr>\n",
       "      <th>1502</th>\n",
       "      <td>31/03/2021</td>\n",
       "      <td>17:13:00</td>\n",
       "      <td>110092.0</td>\n",
       "      <td>1325.0</td>\n",
       "    </tr>\n",
       "    <tr>\n",
       "      <th>1503</th>\n",
       "      <td>31/03/2021</td>\n",
       "      <td>20:12:00</td>\n",
       "      <td>110619.0</td>\n",
       "      <td>1852.0</td>\n",
       "    </tr>\n",
       "  </tbody>\n",
       "</table>\n",
       "<p>1504 rows × 4 columns</p>\n",
       "</div>"
      ],
      "text/plain": [
       "            Date Heure / Time  Vélos depuis le 1er janvier / Grand total  \\\n",
       "0            NaN          NaN                                        NaN   \n",
       "1            NaN          NaN                                        NaN   \n",
       "2     12/03/2020     11:05:00                                      109.0   \n",
       "3     12/03/2020     14:30:00                                      441.0   \n",
       "4     13/03/2020     10:02:00                                     1921.0   \n",
       "...          ...          ...                                        ...   \n",
       "1499  31/03/2021     15:04:00                                   109811.0   \n",
       "1500  31/03/2021     16:27:00                                   109971.0   \n",
       "1501  31/03/2021     17:00:00                                   110050.0   \n",
       "1502  31/03/2021     17:13:00                                   110092.0   \n",
       "1503  31/03/2021     20:12:00                                   110619.0   \n",
       "\n",
       "      Vélos ce jour / Today's total  \n",
       "0                               NaN  \n",
       "1                               NaN  \n",
       "2                             109.0  \n",
       "3                             441.0  \n",
       "4                             385.0  \n",
       "...                             ...  \n",
       "1499                         1044.0  \n",
       "1500                         1204.0  \n",
       "1501                         1283.0  \n",
       "1502                         1325.0  \n",
       "1503                         1852.0  \n",
       "\n",
       "[1504 rows x 4 columns]"
      ]
     },
     "execution_count": 320,
     "metadata": {},
     "output_type": "execute_result"
    }
   ],
   "source": [
    "##Suppression des colonnes avec plus de 50% de données manquantes\n",
    "column_with_nan = velo.columns[velo.isnull().any()]\n",
    "for column in column_with_nan:\n",
    "          if velo[column].isnull().sum()*100.0/velo.shape[0] > 50:\n",
    "                velo.drop(column,1, inplace=True)\n",
    "velo"
   ]
  },
  {
   "cell_type": "code",
   "execution_count": 321,
   "metadata": {},
   "outputs": [
    {
     "data": {
      "text/html": [
       "<div>\n",
       "<style scoped>\n",
       "    .dataframe tbody tr th:only-of-type {\n",
       "        vertical-align: middle;\n",
       "    }\n",
       "\n",
       "    .dataframe tbody tr th {\n",
       "        vertical-align: top;\n",
       "    }\n",
       "\n",
       "    .dataframe thead th {\n",
       "        text-align: right;\n",
       "    }\n",
       "</style>\n",
       "<table border=\"1\" class=\"dataframe\">\n",
       "  <thead>\n",
       "    <tr style=\"text-align: right;\">\n",
       "      <th></th>\n",
       "      <th>Date</th>\n",
       "      <th>Heure / Time</th>\n",
       "      <th>Vélos depuis le 1er janvier / Grand total</th>\n",
       "      <th>Vélos ce jour / Today's total</th>\n",
       "    </tr>\n",
       "  </thead>\n",
       "  <tbody>\n",
       "    <tr>\n",
       "      <th>2</th>\n",
       "      <td>12/03/2020</td>\n",
       "      <td>11:05:00</td>\n",
       "      <td>109.0</td>\n",
       "      <td>109.0</td>\n",
       "    </tr>\n",
       "    <tr>\n",
       "      <th>3</th>\n",
       "      <td>12/03/2020</td>\n",
       "      <td>14:30:00</td>\n",
       "      <td>441.0</td>\n",
       "      <td>441.0</td>\n",
       "    </tr>\n",
       "    <tr>\n",
       "      <th>4</th>\n",
       "      <td>13/03/2020</td>\n",
       "      <td>10:02:00</td>\n",
       "      <td>1921.0</td>\n",
       "      <td>385.0</td>\n",
       "    </tr>\n",
       "    <tr>\n",
       "      <th>5</th>\n",
       "      <td>13/03/2020</td>\n",
       "      <td>14:15:00</td>\n",
       "      <td>2305.0</td>\n",
       "      <td>769.0</td>\n",
       "    </tr>\n",
       "    <tr>\n",
       "      <th>6</th>\n",
       "      <td>13/03/2020</td>\n",
       "      <td>18:21:00</td>\n",
       "      <td>2822.0</td>\n",
       "      <td>1286.0</td>\n",
       "    </tr>\n",
       "    <tr>\n",
       "      <th>...</th>\n",
       "      <td>...</td>\n",
       "      <td>...</td>\n",
       "      <td>...</td>\n",
       "      <td>...</td>\n",
       "    </tr>\n",
       "    <tr>\n",
       "      <th>1499</th>\n",
       "      <td>31/03/2021</td>\n",
       "      <td>15:04:00</td>\n",
       "      <td>109811.0</td>\n",
       "      <td>1044.0</td>\n",
       "    </tr>\n",
       "    <tr>\n",
       "      <th>1500</th>\n",
       "      <td>31/03/2021</td>\n",
       "      <td>16:27:00</td>\n",
       "      <td>109971.0</td>\n",
       "      <td>1204.0</td>\n",
       "    </tr>\n",
       "    <tr>\n",
       "      <th>1501</th>\n",
       "      <td>31/03/2021</td>\n",
       "      <td>17:00:00</td>\n",
       "      <td>110050.0</td>\n",
       "      <td>1283.0</td>\n",
       "    </tr>\n",
       "    <tr>\n",
       "      <th>1502</th>\n",
       "      <td>31/03/2021</td>\n",
       "      <td>17:13:00</td>\n",
       "      <td>110092.0</td>\n",
       "      <td>1325.0</td>\n",
       "    </tr>\n",
       "    <tr>\n",
       "      <th>1503</th>\n",
       "      <td>31/03/2021</td>\n",
       "      <td>20:12:00</td>\n",
       "      <td>110619.0</td>\n",
       "      <td>1852.0</td>\n",
       "    </tr>\n",
       "  </tbody>\n",
       "</table>\n",
       "<p>1500 rows × 4 columns</p>\n",
       "</div>"
      ],
      "text/plain": [
       "            Date Heure / Time  Vélos depuis le 1er janvier / Grand total  \\\n",
       "2     12/03/2020     11:05:00                                      109.0   \n",
       "3     12/03/2020     14:30:00                                      441.0   \n",
       "4     13/03/2020     10:02:00                                     1921.0   \n",
       "5     13/03/2020     14:15:00                                     2305.0   \n",
       "6     13/03/2020     18:21:00                                     2822.0   \n",
       "...          ...          ...                                        ...   \n",
       "1499  31/03/2021     15:04:00                                   109811.0   \n",
       "1500  31/03/2021     16:27:00                                   109971.0   \n",
       "1501  31/03/2021     17:00:00                                   110050.0   \n",
       "1502  31/03/2021     17:13:00                                   110092.0   \n",
       "1503  31/03/2021     20:12:00                                   110619.0   \n",
       "\n",
       "      Vélos ce jour / Today's total  \n",
       "2                             109.0  \n",
       "3                             441.0  \n",
       "4                             385.0  \n",
       "5                             769.0  \n",
       "6                            1286.0  \n",
       "...                             ...  \n",
       "1499                         1044.0  \n",
       "1500                         1204.0  \n",
       "1501                         1283.0  \n",
       "1502                         1325.0  \n",
       "1503                         1852.0  \n",
       "\n",
       "[1500 rows x 4 columns]"
      ]
     },
     "execution_count": 321,
     "metadata": {},
     "output_type": "execute_result"
    }
   ],
   "source": [
    "##Suppression des lignes avec des données manquantes\n",
    "index_with_nan = velo.index[velo.isnull().any(axis=1)]\n",
    "velo.drop(index_with_nan,0, inplace=True)\n",
    "velo"
   ]
  },
  {
   "cell_type": "raw",
   "metadata": {},
   "source": [
    "Prédire le nombre de vélos passant entre 00h01 et 09h00 le vendredi 2 avril"
   ]
  },
  {
   "cell_type": "code",
   "execution_count": 323,
   "metadata": {},
   "outputs": [
    {
     "data": {
      "image/png": "[encoded data removed]",
      "text/plain": [
       "<Figure size 1008x288 with 2 Axes>"
      ]
     },
     "metadata": {
      "needs_background": "light"
     },
     "output_type": "display_data"
    }
   ],
   "source": [
    "import matplotlib.pyplot as plt\n",
    "fig, ax = plt.subplots(1, 2, figsize=(14, 4))\n",
    "velo.iloc[-30:].set_index('Date').plot(ax=ax[0])\n",
    "velo.set_index('Date').plot(ax=ax[1])\n",
    "ax[0].set_title(\"Nombre de vélos par  mois\")\n",
    "ax[1].set_title(\"Nombre de vélos sur un ans\");"
   ]
  },
  {
   "cell_type": "code",
   "execution_count": 324,
   "metadata": {},
   "outputs": [
    {
     "data": {
      "text/html": [
       "<div>\n",
       "<style scoped>\n",
       "    .dataframe tbody tr th:only-of-type {\n",
       "        vertical-align: middle;\n",
       "    }\n",
       "\n",
       "    .dataframe tbody tr th {\n",
       "        vertical-align: top;\n",
       "    }\n",
       "\n",
       "    .dataframe thead th {\n",
       "        text-align: right;\n",
       "    }\n",
       "</style>\n",
       "<table border=\"1\" class=\"dataframe\">\n",
       "  <thead>\n",
       "    <tr style=\"text-align: right;\">\n",
       "      <th></th>\n",
       "      <th>Date</th>\n",
       "      <th>Heure / Time</th>\n",
       "      <th>Vélos depuis le 1er janvier / Grand total</th>\n",
       "      <th>Vélos ce jour / Today's total</th>\n",
       "      <th>lag1</th>\n",
       "      <th>lag2</th>\n",
       "      <th>lag3</th>\n",
       "      <th>lag4</th>\n",
       "      <th>lag5</th>\n",
       "      <th>lag6</th>\n",
       "      <th>lag7</th>\n",
       "      <th>lag8</th>\n",
       "    </tr>\n",
       "  </thead>\n",
       "  <tbody>\n",
       "    <tr>\n",
       "      <th>1499</th>\n",
       "      <td>31/03/2021</td>\n",
       "      <td>15:04:00</td>\n",
       "      <td>109811.0</td>\n",
       "      <td>1044.0</td>\n",
       "      <td>444.0</td>\n",
       "      <td>364.0</td>\n",
       "      <td>1703.0</td>\n",
       "      <td>835.0</td>\n",
       "      <td>390.0</td>\n",
       "      <td>371.0</td>\n",
       "      <td>249.0</td>\n",
       "      <td>1440.0</td>\n",
       "    </tr>\n",
       "    <tr>\n",
       "      <th>1500</th>\n",
       "      <td>31/03/2021</td>\n",
       "      <td>16:27:00</td>\n",
       "      <td>109971.0</td>\n",
       "      <td>1204.0</td>\n",
       "      <td>1044.0</td>\n",
       "      <td>444.0</td>\n",
       "      <td>364.0</td>\n",
       "      <td>1703.0</td>\n",
       "      <td>835.0</td>\n",
       "      <td>390.0</td>\n",
       "      <td>371.0</td>\n",
       "      <td>249.0</td>\n",
       "    </tr>\n",
       "    <tr>\n",
       "      <th>1501</th>\n",
       "      <td>31/03/2021</td>\n",
       "      <td>17:00:00</td>\n",
       "      <td>110050.0</td>\n",
       "      <td>1283.0</td>\n",
       "      <td>1204.0</td>\n",
       "      <td>1044.0</td>\n",
       "      <td>444.0</td>\n",
       "      <td>364.0</td>\n",
       "      <td>1703.0</td>\n",
       "      <td>835.0</td>\n",
       "      <td>390.0</td>\n",
       "      <td>371.0</td>\n",
       "    </tr>\n",
       "    <tr>\n",
       "      <th>1502</th>\n",
       "      <td>31/03/2021</td>\n",
       "      <td>17:13:00</td>\n",
       "      <td>110092.0</td>\n",
       "      <td>1325.0</td>\n",
       "      <td>1283.0</td>\n",
       "      <td>1204.0</td>\n",
       "      <td>1044.0</td>\n",
       "      <td>444.0</td>\n",
       "      <td>364.0</td>\n",
       "      <td>1703.0</td>\n",
       "      <td>835.0</td>\n",
       "      <td>390.0</td>\n",
       "    </tr>\n",
       "    <tr>\n",
       "      <th>1503</th>\n",
       "      <td>31/03/2021</td>\n",
       "      <td>20:12:00</td>\n",
       "      <td>110619.0</td>\n",
       "      <td>1852.0</td>\n",
       "      <td>1325.0</td>\n",
       "      <td>1283.0</td>\n",
       "      <td>1204.0</td>\n",
       "      <td>1044.0</td>\n",
       "      <td>444.0</td>\n",
       "      <td>364.0</td>\n",
       "      <td>1703.0</td>\n",
       "      <td>835.0</td>\n",
       "    </tr>\n",
       "  </tbody>\n",
       "</table>\n",
       "</div>"
      ],
      "text/plain": [
       "            Date Heure / Time  Vélos depuis le 1er janvier / Grand total  \\\n",
       "1499  31/03/2021     15:04:00                                   109811.0   \n",
       "1500  31/03/2021     16:27:00                                   109971.0   \n",
       "1501  31/03/2021     17:00:00                                   110050.0   \n",
       "1502  31/03/2021     17:13:00                                   110092.0   \n",
       "1503  31/03/2021     20:12:00                                   110619.0   \n",
       "\n",
       "      Vélos ce jour / Today's total    lag1    lag2    lag3    lag4    lag5  \\\n",
       "1499                         1044.0   444.0   364.0  1703.0   835.0   390.0   \n",
       "1500                         1204.0  1044.0   444.0   364.0  1703.0   835.0   \n",
       "1501                         1283.0  1204.0  1044.0   444.0   364.0  1703.0   \n",
       "1502                         1325.0  1283.0  1204.0  1044.0   444.0   364.0   \n",
       "1503                         1852.0  1325.0  1283.0  1204.0  1044.0   444.0   \n",
       "\n",
       "        lag6    lag7    lag8  \n",
       "1499   371.0   249.0  1440.0  \n",
       "1500   390.0   371.0   249.0  \n",
       "1501   835.0   390.0   371.0  \n",
       "1502  1703.0   835.0   390.0  \n",
       "1503   364.0  1703.0   835.0  "
      ]
     },
     "execution_count": 324,
     "metadata": {},
     "output_type": "execute_result"
    }
   ],
   "source": [
    "from statsmodels.tsa.tsatools import lagmat\n",
    "lag = 8\n",
    "X = lagmat(velo[\"Vélos ce jour / Today's total\"], lag)\n",
    "lagged = velo.copy()\n",
    "for c in range(1,lag+1):\n",
    "    lagged[\"lag%d\" % c] = X[:, c-1]\n",
    "lagged.tail()"
   ]
  },
  {
   "cell_type": "code",
   "execution_count": 325,
   "metadata": {},
   "outputs": [
    {
     "data": {
      "text/plain": [
       "((1500, 9), (1500,))"
      ]
     },
     "execution_count": 325,
     "metadata": {},
     "output_type": "execute_result"
    }
   ],
   "source": [
    "X = lagged.drop([\"Date\", \"Heure / Time\", \"Vélos depuis le 1er janvier / Grand total\"], axis=1)\n",
    "Y = lagged[\"Vélos ce jour / Today's total\"]\n",
    "X.shape, Y.shape"
   ]
  },
  {
   "cell_type": "code",
   "execution_count": 326,
   "metadata": {},
   "outputs": [
    {
     "data": {
      "text/plain": [
       "array([[ 1.        ,  0.96944396,  0.58763422, ...,  0.33243846,\n",
       "         0.29132635,  0.5421864 ],\n",
       "       [ 0.96944396,  1.        ,  0.7620779 , ...,  0.39980061,\n",
       "         0.35529038,  0.58029904],\n",
       "       [ 0.58763422,  0.7620779 ,  1.        , ...,  0.49096452,\n",
       "         0.45978428,  0.53834014],\n",
       "       ...,\n",
       "       [ 0.33243846,  0.39980061,  0.49096452, ...,  1.        ,\n",
       "         0.1858927 , -0.13703685],\n",
       "       [ 0.29132635,  0.35529038,  0.45978428, ...,  0.1858927 ,\n",
       "         1.        ,  0.18059595],\n",
       "       [ 0.5421864 ,  0.58029904,  0.53834014, ..., -0.13703685,\n",
       "         0.18059595,  1.        ]])"
      ]
     },
     "execution_count": 326,
     "metadata": {},
     "output_type": "execute_result"
    }
   ],
   "source": [
    "from numpy import corrcoef\n",
    "corrcoef(X)"
   ]
  },
  {
   "cell_type": "code",
   "execution_count": 327,
   "metadata": {},
   "outputs": [
    {
     "data": {
      "text/plain": [
       "LinearRegression()"
      ]
     },
     "execution_count": 327,
     "metadata": {},
     "output_type": "execute_result"
    }
   ],
   "source": [
    "from sklearn.linear_model import LinearRegression\n",
    "clr = LinearRegression()\n",
    "clr.fit(X, Y)"
   ]
  },
  {
   "cell_type": "code",
   "execution_count": 328,
   "metadata": {},
   "outputs": [
    {
     "data": {
      "text/plain": [
       "LinearRegression()"
      ]
     },
     "execution_count": 328,
     "metadata": {},
     "output_type": "execute_result"
    }
   ],
   "source": [
    "LinearRegression(copy_X=True, fit_intercept=True, n_jobs=None, normalize=False)"
   ]
  },
  {
   "cell_type": "code",
   "execution_count": 329,
   "metadata": {},
   "outputs": [
    {
     "data": {
      "text/plain": [
       "1.0"
      ]
     },
     "execution_count": 329,
     "metadata": {},
     "output_type": "execute_result"
    }
   ],
   "source": [
    "from sklearn.metrics import r2_score\n",
    "r2_score(Y, clr.predict(X))"
   ]
  },
  {
   "cell_type": "code",
   "execution_count": 330,
   "metadata": {},
   "outputs": [
    {
     "data": {
      "text/plain": [
       "array([ 1.00000000e+00, -2.55310522e-16, -1.65380545e-16, -1.21854542e-16,\n",
       "        5.75161083e-17,  6.74651336e-17, -2.16208613e-17, -3.65001460e-17,\n",
       "        6.80208161e-17])"
      ]
     },
     "execution_count": 330,
     "metadata": {},
     "output_type": "execute_result"
    }
   ],
   "source": [
    "clr.coef_"
   ]
  },
  {
   "cell_type": "code",
   "execution_count": 331,
   "metadata": {},
   "outputs": [
    {
     "name": "stdout",
     "output_type": "stream",
     "text": [
      "X(t-1) 0.18971090425340575\n",
      "X(t-2) -0.24175429738732457\n",
      "X(t-3) -0.34792479402031784\n",
      "X(t-4) -0.4007448917704377\n",
      "X(t-5) -0.40618440800176203\n",
      "X(t-6) -0.4442813114323738\n",
      "X(t-7) -0.45182427809102754\n",
      "X(t-8) -0.42741509761083196\n"
     ]
    }
   ],
   "source": [
    "for i in range(1, X.shape[1]):\n",
    "    print(\"X(t-%d)\" % (i), r2_score(Y, X.iloc[:, i]))"
   ]
  },
  {
   "cell_type": "markdown",
   "metadata": {},
   "source": [
    "# Partie visualisation"
   ]
  },
  {
   "cell_type": "code",
   "execution_count": 332,
   "metadata": {},
   "outputs": [
    {
     "data": {
      "text/html": [
       "<div>\n",
       "<style scoped>\n",
       "    .dataframe tbody tr th:only-of-type {\n",
       "        vertical-align: middle;\n",
       "    }\n",
       "\n",
       "    .dataframe tbody tr th {\n",
       "        vertical-align: top;\n",
       "    }\n",
       "\n",
       "    .dataframe thead th {\n",
       "        text-align: right;\n",
       "    }\n",
       "</style>\n",
       "<table border=\"1\" class=\"dataframe\">\n",
       "  <thead>\n",
       "    <tr style=\"text-align: right;\">\n",
       "      <th></th>\n",
       "      <th>intensity</th>\n",
       "      <th>laneId</th>\n",
       "      <th>dateObserved</th>\n",
       "      <th>location</th>\n",
       "      <th>id</th>\n",
       "      <th>type</th>\n",
       "      <th>vehicleType</th>\n",
       "      <th>reversedLane</th>\n",
       "    </tr>\n",
       "  </thead>\n",
       "  <tbody>\n",
       "    <tr>\n",
       "      <th>coordinates</th>\n",
       "      <td>849</td>\n",
       "      <td>734202564</td>\n",
       "      <td>2021-03-30T00:00:00/2021-03-31T00:00:00</td>\n",
       "      <td>[3.8336, 43.61465]</td>\n",
       "      <td>MMM_EcoCompt_X2H20042633_202103300000</td>\n",
       "      <td>TrafficFlowObserved</td>\n",
       "      <td>bicycle</td>\n",
       "      <td>False</td>\n",
       "    </tr>\n",
       "    <tr>\n",
       "      <th>type</th>\n",
       "      <td>849</td>\n",
       "      <td>734202564</td>\n",
       "      <td>2021-03-30T00:00:00/2021-03-31T00:00:00</td>\n",
       "      <td>Point</td>\n",
       "      <td>MMM_EcoCompt_X2H20042633_202103300000</td>\n",
       "      <td>TrafficFlowObserved</td>\n",
       "      <td>bicycle</td>\n",
       "      <td>False</td>\n",
       "    </tr>\n",
       "  </tbody>\n",
       "</table>\n",
       "</div>"
      ],
      "text/plain": [
       "             intensity     laneId                             dateObserved  \\\n",
       "coordinates        849  734202564  2021-03-30T00:00:00/2021-03-31T00:00:00   \n",
       "type               849  734202564  2021-03-30T00:00:00/2021-03-31T00:00:00   \n",
       "\n",
       "                       location                                     id  \\\n",
       "coordinates  [3.8336, 43.61465]  MMM_EcoCompt_X2H20042633_202103300000   \n",
       "type                      Point  MMM_EcoCompt_X2H20042633_202103300000   \n",
       "\n",
       "                            type vehicleType  reversedLane  \n",
       "coordinates  TrafficFlowObserved     bicycle         False  \n",
       "type         TrafficFlowObserved     bicycle         False  "
      ]
     },
     "execution_count": 332,
     "metadata": {},
     "output_type": "execute_result"
    }
   ],
   "source": [
    "import pandas as pd\n",
    "from pandas import DataFrame\n",
    "import json\n",
    "import urllib.request\n",
    "import urllib.parse as par\n",
    "url1='https://data.montpellier3m.fr/sites/default/files/ressources/MMM_EcoCompt_X2H20042633.json'\n",
    "data1= urllib.request.urlopen(url1)\n",
    "velo1=pd.read_json(data1)\n",
    "velo1\n"
   ]
  },
  {
   "cell_type": "raw",
   "metadata": {},
   "source": [
    "visualisation de la circulation cycliste à Montpellier"
   ]
  },
  {
   "cell_type": "code",
   "execution_count": 333,
   "metadata": {},
   "outputs": [
    {
     "data": {
      "image/png": "[encoded data removed]",
      "text/plain": [
       "<Figure size 432x288 with 1 Axes>"
      ]
     },
     "metadata": {
      "needs_background": "light"
     },
     "output_type": "display_data"
    }
   ],
   "source": [
    "import matplotlib.pyplot as plt\n",
    "plt.hist(velo1[\"vehicleType\"])\n",
    "plt.show()"
   ]
  }
 ],
 "metadata": {
  "kernelspec": {
   "display_name": "Python 3",
   "language": "python",
   "name": "python3"
  },
  "language_info": {
   "codemirror_mode": {
    "name": "ipython",
    "version": 3
   },
   "file_extension": ".py",
   "mimetype": "text/x-python",
   "name": "python",
   "nbconvert_exporter": "python",
   "pygments_lexer": "ipython3",
   "version": "3.8.5"
  }
 },
 "nbformat": 4,
 "nbformat_minor": 4
}
